{
  "nbformat": 4,
  "nbformat_minor": 0,
  "metadata": {
    "colab": {
      "name": "python_stock_predict.ipynb",
      "provenance": [],
      "collapsed_sections": [],
      "authorship_tag": "ABX9TyMCe6PJU6VdBoF2z1OPepQt",
      "include_colab_link": true
    },
    "kernelspec": {
      "name": "python3",
      "display_name": "Python 3"
    }
  },
  "cells": [
    {
      "cell_type": "markdown",
      "metadata": {
        "id": "view-in-github",
        "colab_type": "text"
      },
      "source": [
        "<a href=\"https://colab.research.google.com/github/ssbrahme/stock-prediction/blob/main/python_stock_predict.ipynb\" target=\"_parent\"><img src=\"https://colab.research.google.com/assets/colab-badge.svg\" alt=\"Open In Colab\"/></a>"
      ]
    },
    {
      "cell_type": "code",
      "metadata": {
        "id": "c1e7Pww8GAaC"
      },
      "source": [
        "# description - uses artificial recurrent neural network called Long Short Term Memory (LSTM)\r\n",
        "#               to predict closing stock price of a stock, using past 60 day stock price\r\n"
      ],
      "execution_count": 92,
      "outputs": []
    },
    {
      "cell_type": "code",
      "metadata": {
        "id": "wli5H45eE8YO"
      },
      "source": [
        "# import libraries\r\n",
        "import math\r\n",
        "import pandas_datareader as web\r\n",
        "import numpy as np\r\n",
        "import pandas as pd\r\n",
        "from sklearn.preprocessing import MinMaxScaler\r\n",
        "from keras.models import Sequential\r\n",
        "from keras.layers import Dense, LSTM\r\n",
        "import matplotlib.pyplot as plt\r\n",
        "plt.style.use('fivethirtyeight')\r\n"
      ],
      "execution_count": 93,
      "outputs": []
    },
    {
      "cell_type": "code",
      "metadata": {
        "colab": {
          "base_uri": "https://localhost:8080/",
          "height": 448
        },
        "id": "5g--Fls1Ft6B",
        "outputId": "719ec641-2c1d-43f6-e374-fb07f5fc2858"
      },
      "source": [
        "# get the stock quote\r\n",
        "df = web.DataReader('AAPL', data_source= 'yahoo', start= '2017-01-01', end= '2021-02-10')\r\n",
        "\r\n",
        "# show the data\r\n",
        "df"
      ],
      "execution_count": 94,
      "outputs": [
        {
          "output_type": "execute_result",
          "data": {
            "text/html": [
              "<div>\n",
              "<style scoped>\n",
              "    .dataframe tbody tr th:only-of-type {\n",
              "        vertical-align: middle;\n",
              "    }\n",
              "\n",
              "    .dataframe tbody tr th {\n",
              "        vertical-align: top;\n",
              "    }\n",
              "\n",
              "    .dataframe thead th {\n",
              "        text-align: right;\n",
              "    }\n",
              "</style>\n",
              "<table border=\"1\" class=\"dataframe\">\n",
              "  <thead>\n",
              "    <tr style=\"text-align: right;\">\n",
              "      <th></th>\n",
              "      <th>High</th>\n",
              "      <th>Low</th>\n",
              "      <th>Open</th>\n",
              "      <th>Close</th>\n",
              "      <th>Volume</th>\n",
              "      <th>Adj Close</th>\n",
              "    </tr>\n",
              "    <tr>\n",
              "      <th>Date</th>\n",
              "      <th></th>\n",
              "      <th></th>\n",
              "      <th></th>\n",
              "      <th></th>\n",
              "      <th></th>\n",
              "      <th></th>\n",
              "    </tr>\n",
              "  </thead>\n",
              "  <tbody>\n",
              "    <tr>\n",
              "      <th>2017-01-03</th>\n",
              "      <td>29.082500</td>\n",
              "      <td>28.690001</td>\n",
              "      <td>28.950001</td>\n",
              "      <td>29.037500</td>\n",
              "      <td>115127600.0</td>\n",
              "      <td>27.459938</td>\n",
              "    </tr>\n",
              "    <tr>\n",
              "      <th>2017-01-04</th>\n",
              "      <td>29.127501</td>\n",
              "      <td>28.937500</td>\n",
              "      <td>28.962500</td>\n",
              "      <td>29.004999</td>\n",
              "      <td>84472400.0</td>\n",
              "      <td>27.429203</td>\n",
              "    </tr>\n",
              "    <tr>\n",
              "      <th>2017-01-05</th>\n",
              "      <td>29.215000</td>\n",
              "      <td>28.952499</td>\n",
              "      <td>28.980000</td>\n",
              "      <td>29.152500</td>\n",
              "      <td>88774400.0</td>\n",
              "      <td>27.568691</td>\n",
              "    </tr>\n",
              "    <tr>\n",
              "      <th>2017-01-06</th>\n",
              "      <td>29.540001</td>\n",
              "      <td>29.117500</td>\n",
              "      <td>29.195000</td>\n",
              "      <td>29.477501</td>\n",
              "      <td>127007600.0</td>\n",
              "      <td>27.876030</td>\n",
              "    </tr>\n",
              "    <tr>\n",
              "      <th>2017-01-09</th>\n",
              "      <td>29.857500</td>\n",
              "      <td>29.485001</td>\n",
              "      <td>29.487499</td>\n",
              "      <td>29.747499</td>\n",
              "      <td>134247600.0</td>\n",
              "      <td>28.131361</td>\n",
              "    </tr>\n",
              "    <tr>\n",
              "      <th>...</th>\n",
              "      <td>...</td>\n",
              "      <td>...</td>\n",
              "      <td>...</td>\n",
              "      <td>...</td>\n",
              "      <td>...</td>\n",
              "      <td>...</td>\n",
              "    </tr>\n",
              "    <tr>\n",
              "      <th>2021-02-04</th>\n",
              "      <td>137.399994</td>\n",
              "      <td>134.589996</td>\n",
              "      <td>136.300003</td>\n",
              "      <td>137.389999</td>\n",
              "      <td>84183100.0</td>\n",
              "      <td>137.184998</td>\n",
              "    </tr>\n",
              "    <tr>\n",
              "      <th>2021-02-05</th>\n",
              "      <td>137.419998</td>\n",
              "      <td>135.860001</td>\n",
              "      <td>137.350006</td>\n",
              "      <td>136.759995</td>\n",
              "      <td>75524000.0</td>\n",
              "      <td>136.759995</td>\n",
              "    </tr>\n",
              "    <tr>\n",
              "      <th>2021-02-08</th>\n",
              "      <td>136.960007</td>\n",
              "      <td>134.919998</td>\n",
              "      <td>136.029999</td>\n",
              "      <td>136.910004</td>\n",
              "      <td>71297200.0</td>\n",
              "      <td>136.910004</td>\n",
              "    </tr>\n",
              "    <tr>\n",
              "      <th>2021-02-09</th>\n",
              "      <td>137.880005</td>\n",
              "      <td>135.850006</td>\n",
              "      <td>136.619995</td>\n",
              "      <td>136.009995</td>\n",
              "      <td>76774200.0</td>\n",
              "      <td>136.009995</td>\n",
              "    </tr>\n",
              "    <tr>\n",
              "      <th>2021-02-10</th>\n",
              "      <td>136.990005</td>\n",
              "      <td>134.399994</td>\n",
              "      <td>136.479996</td>\n",
              "      <td>135.389999</td>\n",
              "      <td>70527203.0</td>\n",
              "      <td>135.389999</td>\n",
              "    </tr>\n",
              "  </tbody>\n",
              "</table>\n",
              "<p>1034 rows × 6 columns</p>\n",
              "</div>"
            ],
            "text/plain": [
              "                  High         Low  ...       Volume   Adj Close\n",
              "Date                                ...                         \n",
              "2017-01-03   29.082500   28.690001  ...  115127600.0   27.459938\n",
              "2017-01-04   29.127501   28.937500  ...   84472400.0   27.429203\n",
              "2017-01-05   29.215000   28.952499  ...   88774400.0   27.568691\n",
              "2017-01-06   29.540001   29.117500  ...  127007600.0   27.876030\n",
              "2017-01-09   29.857500   29.485001  ...  134247600.0   28.131361\n",
              "...                ...         ...  ...          ...         ...\n",
              "2021-02-04  137.399994  134.589996  ...   84183100.0  137.184998\n",
              "2021-02-05  137.419998  135.860001  ...   75524000.0  136.759995\n",
              "2021-02-08  136.960007  134.919998  ...   71297200.0  136.910004\n",
              "2021-02-09  137.880005  135.850006  ...   76774200.0  136.009995\n",
              "2021-02-10  136.990005  134.399994  ...   70527203.0  135.389999\n",
              "\n",
              "[1034 rows x 6 columns]"
            ]
          },
          "metadata": {
            "tags": []
          },
          "execution_count": 94
        }
      ]
    },
    {
      "cell_type": "code",
      "metadata": {
        "colab": {
          "base_uri": "https://localhost:8080/"
        },
        "id": "8ZjegQJmGxMC",
        "outputId": "c3c23f03-e787-4031-c492-15234cc682d8"
      },
      "source": [
        "# get the shape of the data frame\r\n",
        "df.shape"
      ],
      "execution_count": 95,
      "outputs": [
        {
          "output_type": "execute_result",
          "data": {
            "text/plain": [
              "(1034, 6)"
            ]
          },
          "metadata": {
            "tags": []
          },
          "execution_count": 95
        }
      ]
    },
    {
      "cell_type": "code",
      "metadata": {
        "colab": {
          "base_uri": "https://localhost:8080/",
          "height": 558
        },
        "id": "Dl_dSGS0HBZw",
        "outputId": "5c28cb53-be40-4667-c29e-05fa2c0846c6"
      },
      "source": [
        "# visualize closing price history\r\n",
        "plt.figure (figsize=(16,8))\r\n",
        "plt.title ('Closing Price History')\r\n",
        "plt.plot(df.Close)\r\n",
        "plt.xlabel('Date', fontsize=18)\r\n",
        "plt.ylabel('Closing Price($) USD',fontsize=18)\r\n",
        "plt.show ()"
      ],
      "execution_count": 96,
      "outputs": [
        {
          "output_type": "display_data",
          "data": {
            "image/png": "[encoded data removed]",
            "text/plain": [
              "<Figure size 1152x576 with 1 Axes>"
            ]
          },
          "metadata": {
            "tags": []
          }
        }
      ]
    },
    {
      "cell_type": "code",
      "metadata": {
        "colab": {
          "base_uri": "https://localhost:8080/"
        },
        "id": "Rgjxk99IIdpy",
        "outputId": "9f8e8544-8091-4e3f-f9ab-31d2f9aeb8f1"
      },
      "source": [
        "# create data frame with only 'close' column\r\n",
        "data = df.filter(['Close'])\r\n",
        "\r\n",
        "# convert the data frame into numpy array\r\n",
        "dataset = data.values\r\n",
        "\r\n",
        "# get number of rows to train the LSTM model \r\n",
        "training_data_len = math.ceil(len(dataset) * 0.8)\r\n",
        "\r\n",
        "training_data_len"
      ],
      "execution_count": 97,
      "outputs": [
        {
          "output_type": "execute_result",
          "data": {
            "text/plain": [
              "828"
            ]
          },
          "metadata": {
            "tags": []
          },
          "execution_count": 97
        }
      ]
    },
    {
      "cell_type": "code",
      "metadata": {
        "colab": {
          "base_uri": "https://localhost:8080/"
        },
        "id": "uuIGbLz7Jenv",
        "outputId": "05fd741d-34c1-473d-b925-eebba8c8e71f"
      },
      "source": [
        "# Scale the data\r\n",
        "scaler= MinMaxScaler(feature_range=(0,1))\r\n",
        "scaled_data = scaler.fit_transform(dataset)\r\n",
        "\r\n",
        "scaled_data"
      ],
      "execution_count": 98,
      "outputs": [
        {
          "output_type": "execute_result",
          "data": {
            "text/plain": [
              "array([[2.84711308e-04],\n",
              "       [0.00000000e+00],\n",
              "       [1.29211148e-03],\n",
              "       ...,\n",
              "       [9.45249882e-01],\n",
              "       [9.37365784e-01],\n",
              "       [9.31934616e-01]])"
            ]
          },
          "metadata": {
            "tags": []
          },
          "execution_count": 98
        }
      ]
    },
    {
      "cell_type": "code",
      "metadata": {
        "colab": {
          "base_uri": "https://localhost:8080/"
        },
        "id": "Ahn68akpKJaw",
        "outputId": "eedde69f-6835-4bd6-adf5-bdda9d42509a"
      },
      "source": [
        "# create scaled training dataset\r\n",
        "train_data =  scaled_data[0:training_data_len , :]\r\n",
        "\r\n",
        "# split the data into x_train and y_train datasets\r\n",
        "x_train = [] \r\n",
        "y_train = []\r\n",
        "\r\n",
        "for i in range (60, len(train_data)):\r\n",
        "  x_train.append(train_data[i-60:i, 0])\r\n",
        "  y_train.append(train_data[i,0])\r\n",
        "  if i <= 61:\r\n",
        "    print(x_train)\r\n",
        "    print(y_train)\r\n",
        "    print()"
      ],
      "execution_count": 99,
      "outputs": [
        {
          "output_type": "stream",
          "text": [
            "[array([0.00028471, 0.        , 0.00129211, 0.00413912, 0.00650432,\n",
            "       0.00676712, 0.00816873, 0.00707372, 0.00661382, 0.00871623,\n",
            "       0.00869432, 0.00823442, 0.00871623, 0.00889143, 0.00865053,\n",
            "       0.01283343, 0.01296484, 0.01298673, 0.01228593, 0.01167273,\n",
            "       0.02787877, 0.02739696, 0.02860147, 0.03125136, 0.03396698,\n",
            "       0.03508387, 0.03591608, 0.03525907, 0.03782137, 0.04161011,\n",
            "       0.04268319, 0.04233281, 0.0431431 , 0.0452893 , 0.04618721,\n",
            "       0.044917  , 0.04520171, 0.04579299, 0.04592442, 0.05205641,\n",
            "       0.05023873, 0.05203452, 0.05107091, 0.05146513, 0.05032632,\n",
            "       0.0496255 , 0.05063292, 0.05076431, 0.05030443, 0.05352374,\n",
            "       0.05402743, 0.05249443, 0.05571374, 0.05216591, 0.05562612,\n",
            "       0.05453112, 0.05391792, 0.05444354, 0.06083835, 0.06153913])]\n",
            "[0.06112302337210834]\n",
            "\n",
            "[array([0.00028471, 0.        , 0.00129211, 0.00413912, 0.00650432,\n",
            "       0.00676712, 0.00816873, 0.00707372, 0.00661382, 0.00871623,\n",
            "       0.00869432, 0.00823442, 0.00871623, 0.00889143, 0.00865053,\n",
            "       0.01283343, 0.01296484, 0.01298673, 0.01228593, 0.01167273,\n",
            "       0.02787877, 0.02739696, 0.02860147, 0.03125136, 0.03396698,\n",
            "       0.03508387, 0.03591608, 0.03525907, 0.03782137, 0.04161011,\n",
            "       0.04268319, 0.04233281, 0.0431431 , 0.0452893 , 0.04618721,\n",
            "       0.044917  , 0.04520171, 0.04579299, 0.04592442, 0.05205641,\n",
            "       0.05023873, 0.05203452, 0.05107091, 0.05146513, 0.05032632,\n",
            "       0.0496255 , 0.05063292, 0.05076431, 0.05030443, 0.05352374,\n",
            "       0.05402743, 0.05249443, 0.05571374, 0.05216591, 0.05562612,\n",
            "       0.05453112, 0.05391792, 0.05444354, 0.06083835, 0.06153913]), array([0.        , 0.00129211, 0.00413912, 0.00650432, 0.00676712,\n",
            "       0.00816873, 0.00707372, 0.00661382, 0.00871623, 0.00869432,\n",
            "       0.00823442, 0.00871623, 0.00889143, 0.00865053, 0.01283343,\n",
            "       0.01296484, 0.01298673, 0.01228593, 0.01167273, 0.02787877,\n",
            "       0.02739696, 0.02860147, 0.03125136, 0.03396698, 0.03508387,\n",
            "       0.03591608, 0.03525907, 0.03782137, 0.04161011, 0.04268319,\n",
            "       0.04233281, 0.0431431 , 0.0452893 , 0.04618721, 0.044917  ,\n",
            "       0.04520171, 0.04579299, 0.04592442, 0.05205641, 0.05023873,\n",
            "       0.05203452, 0.05107091, 0.05146513, 0.05032632, 0.0496255 ,\n",
            "       0.05063292, 0.05076431, 0.05030443, 0.05352374, 0.05402743,\n",
            "       0.05249443, 0.05571374, 0.05216591, 0.05562612, 0.05453112,\n",
            "       0.05391792, 0.05444354, 0.06083835, 0.06153913, 0.06112302])]\n",
            "[0.06112302337210834, 0.06053174615467216]\n",
            "\n"
          ],
          "name": "stdout"
        }
      ]
    },
    {
      "cell_type": "code",
      "metadata": {
        "id": "8TaugjVuO5sD"
      },
      "source": [
        "# convert x_train and y_train to numpy arrays\r\n",
        "x_train, y_train = np.array(x_train) , np.array(y_train)"
      ],
      "execution_count": 100,
      "outputs": []
    },
    {
      "cell_type": "code",
      "metadata": {
        "colab": {
          "base_uri": "https://localhost:8080/"
        },
        "id": "V-x87mmpPUCh",
        "outputId": "cc4a0c21-906e-4ea0-c1c8-109e1f9daaef"
      },
      "source": [
        "# reshape x_train data - to satisfy LSTM standard fo 3 dimensional data consisting of samples, time-steps and features\r\n",
        "x_train = np.reshape(x_train, (len(x_train),x_train.shape[1],1 ))\r\n",
        "x_train.shape"
      ],
      "execution_count": 101,
      "outputs": [
        {
          "output_type": "execute_result",
          "data": {
            "text/plain": [
              "(768, 60, 1)"
            ]
          },
          "metadata": {
            "tags": []
          },
          "execution_count": 101
        }
      ]
    },
    {
      "cell_type": "code",
      "metadata": {
        "id": "m1YYx8V7QYNx"
      },
      "source": [
        "# build LSTM model\r\n",
        "model = Sequential()\r\n",
        "model.add(LSTM(50,return_sequences=True, input_shape = (x_train.shape[1], 1 )))\r\n",
        "model.add(LSTM(50, return_sequences=False))\r\n",
        "model.add(Dense(25))\r\n",
        "model.add(Dense(1))"
      ],
      "execution_count": 102,
      "outputs": []
    },
    {
      "cell_type": "code",
      "metadata": {
        "id": "C1RyrHbORUkA"
      },
      "source": [
        "# compile the model\r\n",
        "model.compile(optimizer= 'adam', loss= 'mean_squared_error' )"
      ],
      "execution_count": 103,
      "outputs": []
    },
    {
      "cell_type": "code",
      "metadata": {
        "colab": {
          "base_uri": "https://localhost:8080/"
        },
        "id": "O9fXlM-URmmS",
        "outputId": "2f3f5277-65e2-4d0f-f594-0ec7a05c5089"
      },
      "source": [
        "# train the model\r\n",
        "model.fit(x_train, y_train, batch_size= 1,epochs= 1)"
      ],
      "execution_count": 104,
      "outputs": [
        {
          "output_type": "stream",
          "text": [
            "768/768 [==============================] - 28s 32ms/step - loss: 0.0024\n"
          ],
          "name": "stdout"
        },
        {
          "output_type": "execute_result",
          "data": {
            "text/plain": [
              "<tensorflow.python.keras.callbacks.History at 0x7ff5f9a98eb8>"
            ]
          },
          "metadata": {
            "tags": []
          },
          "execution_count": 104
        }
      ]
    },
    {
      "cell_type": "code",
      "metadata": {
        "id": "VLFZxDMaSpAt"
      },
      "source": [
        "# create tersting dataset\r\n",
        "# create a new array containing scaled data with index from the training dataset last index to the length of the entire dataset\r\n",
        "test_data = scaled_data[training_data_len - 60 : , :]\r\n",
        "\r\n",
        "# create datasets x_test and y_test\r\n",
        "x_test = []\r\n",
        "y_test = dataset[training_data_len : , :]\r\n",
        "\r\n",
        "for i in range (60, len(test_data)):\r\n",
        "  x_test.append(test_data[i-60 : i , 0])\r\n",
        "\r\n"
      ],
      "execution_count": 105,
      "outputs": []
    },
    {
      "cell_type": "code",
      "metadata": {
        "id": "VpJD5EBCULKG"
      },
      "source": [
        "# convert the data to a numpy array\r\n",
        "x_test = np.array(x_test)"
      ],
      "execution_count": 106,
      "outputs": []
    },
    {
      "cell_type": "code",
      "metadata": {
        "id": "BkwEapE8UbRr"
      },
      "source": [
        "# reshape the data to get 3 dimensional shape for LSTM\r\n",
        "x_test = np.reshape(x_test , ( x_test.shape[0] ,x_test.shape[1], 1  ))\r\n",
        "\r\n"
      ],
      "execution_count": 107,
      "outputs": []
    },
    {
      "cell_type": "code",
      "metadata": {
        "id": "RGpYz_RjU9ZL"
      },
      "source": [
        "# get model predicted price values for x_test dataset\r\n",
        "pred = model.predict(x_test)\r\n",
        "\r\n",
        "# inverse transform\r\n",
        "pred = scaler.inverse_transform(pred)\r\n"
      ],
      "execution_count": 108,
      "outputs": []
    },
    {
      "cell_type": "code",
      "metadata": {
        "colab": {
          "base_uri": "https://localhost:8080/"
        },
        "id": "dsoSggiwVqQS",
        "outputId": "13eab4a5-f6ea-4d63-c544-d4c997a9a250"
      },
      "source": [
        "# find out RMSE \r\n",
        "rmse = np.sqrt(np.mean( pred - y_test)**2 )\r\n",
        "rmse\r\n"
      ],
      "execution_count": 109,
      "outputs": [
        {
          "output_type": "execute_result",
          "data": {
            "text/plain": [
              "2.2342076347869577"
            ]
          },
          "metadata": {
            "tags": []
          },
          "execution_count": 109
        }
      ]
    },
    {
      "cell_type": "code",
      "metadata": {
        "colab": {
          "base_uri": "https://localhost:8080/",
          "height": 661
        },
        "id": "ZVih5KFQWbxw",
        "outputId": "12fb9855-fb0b-49bc-8bdb-6c21d9067252"
      },
      "source": [
        "# plot the data\r\n",
        "train = data[ : training_data_len]\r\n",
        "finals = data[training_data_len : ]\r\n",
        "finals['Prediction']= pred\r\n",
        "\r\n",
        "# visualize the data\r\n",
        "\r\n",
        "plt.figure (figsize= (16,8))\r\n",
        "plt.title('Model')\r\n",
        "plt.xlabel('Date', fontsize= 18)\r\n",
        "plt.ylabel('Closing Price($) USD', fontsize=18)\r\n",
        "plt.plot(train['Close'])\r\n",
        "plt.plot(finals[['Close', 'Prediction']])\r\n",
        "plt.legend(['Train','Actual','Prediction'], loc  = 'upper right')\r\n",
        "plt.show()\r\n"
      ],
      "execution_count": 110,
      "outputs": [
        {
          "output_type": "stream",
          "text": [
            "/usr/local/lib/python3.6/dist-packages/ipykernel_launcher.py:4: SettingWithCopyWarning: \n",
            "A value is trying to be set on a copy of a slice from a DataFrame.\n",
            "Try using .loc[row_indexer,col_indexer] = value instead\n",
            "\n",
            "See the caveats in the documentation: https://pandas.pydata.org/pandas-docs/stable/user_guide/indexing.html#returning-a-view-versus-a-copy\n",
            "  after removing the cwd from sys.path.\n"
          ],
          "name": "stderr"
        },
        {
          "output_type": "display_data",
          "data": {
            "image/png": "[encoded data removed]",
            "text/plain": [
              "<Figure size 1152x576 with 1 Axes>"
            ]
          },
          "metadata": {
            "tags": []
          }
        }
      ]
    },
    {
      "cell_type": "code",
      "metadata": {
        "colab": {
          "base_uri": "https://localhost:8080/",
          "height": 448
        },
        "id": "YHpd_cIYZNeu",
        "outputId": "7a855a28-5629-460d-e911-b00f7225d85c"
      },
      "source": [
        "# show the actual price and predicted price\r\n",
        "finals"
      ],
      "execution_count": 111,
      "outputs": [
        {
          "output_type": "execute_result",
          "data": {
            "text/html": [
              "<div>\n",
              "<style scoped>\n",
              "    .dataframe tbody tr th:only-of-type {\n",
              "        vertical-align: middle;\n",
              "    }\n",
              "\n",
              "    .dataframe tbody tr th {\n",
              "        vertical-align: top;\n",
              "    }\n",
              "\n",
              "    .dataframe thead th {\n",
              "        text-align: right;\n",
              "    }\n",
              "</style>\n",
              "<table border=\"1\" class=\"dataframe\">\n",
              "  <thead>\n",
              "    <tr style=\"text-align: right;\">\n",
              "      <th></th>\n",
              "      <th>Close</th>\n",
              "      <th>Prediction</th>\n",
              "    </tr>\n",
              "    <tr>\n",
              "      <th>Date</th>\n",
              "      <th></th>\n",
              "      <th></th>\n",
              "    </tr>\n",
              "  </thead>\n",
              "  <tbody>\n",
              "    <tr>\n",
              "      <th>2020-04-20</th>\n",
              "      <td>69.232498</td>\n",
              "      <td>69.482628</td>\n",
              "    </tr>\n",
              "    <tr>\n",
              "      <th>2020-04-21</th>\n",
              "      <td>67.092499</td>\n",
              "      <td>70.096825</td>\n",
              "    </tr>\n",
              "    <tr>\n",
              "      <th>2020-04-22</th>\n",
              "      <td>69.025002</td>\n",
              "      <td>70.290436</td>\n",
              "    </tr>\n",
              "    <tr>\n",
              "      <th>2020-04-23</th>\n",
              "      <td>68.757500</td>\n",
              "      <td>70.374001</td>\n",
              "    </tr>\n",
              "    <tr>\n",
              "      <th>2020-04-24</th>\n",
              "      <td>70.742500</td>\n",
              "      <td>70.357597</td>\n",
              "    </tr>\n",
              "    <tr>\n",
              "      <th>...</th>\n",
              "      <td>...</td>\n",
              "      <td>...</td>\n",
              "    </tr>\n",
              "    <tr>\n",
              "      <th>2021-02-04</th>\n",
              "      <td>137.389999</td>\n",
              "      <td>134.030228</td>\n",
              "    </tr>\n",
              "    <tr>\n",
              "      <th>2021-02-05</th>\n",
              "      <td>136.759995</td>\n",
              "      <td>133.795868</td>\n",
              "    </tr>\n",
              "    <tr>\n",
              "      <th>2021-02-08</th>\n",
              "      <td>136.910004</td>\n",
              "      <td>133.663910</td>\n",
              "    </tr>\n",
              "    <tr>\n",
              "      <th>2021-02-09</th>\n",
              "      <td>136.009995</td>\n",
              "      <td>133.618179</td>\n",
              "    </tr>\n",
              "    <tr>\n",
              "      <th>2021-02-10</th>\n",
              "      <td>135.389999</td>\n",
              "      <td>133.548386</td>\n",
              "    </tr>\n",
              "  </tbody>\n",
              "</table>\n",
              "<p>206 rows × 2 columns</p>\n",
              "</div>"
            ],
            "text/plain": [
              "                 Close  Prediction\n",
              "Date                              \n",
              "2020-04-20   69.232498   69.482628\n",
              "2020-04-21   67.092499   70.096825\n",
              "2020-04-22   69.025002   70.290436\n",
              "2020-04-23   68.757500   70.374001\n",
              "2020-04-24   70.742500   70.357597\n",
              "...                ...         ...\n",
              "2021-02-04  137.389999  134.030228\n",
              "2021-02-05  136.759995  133.795868\n",
              "2021-02-08  136.910004  133.663910\n",
              "2021-02-09  136.009995  133.618179\n",
              "2021-02-10  135.389999  133.548386\n",
              "\n",
              "[206 rows x 2 columns]"
            ]
          },
          "metadata": {
            "tags": []
          },
          "execution_count": 111
        }
      ]
    },
    {
      "cell_type": "code",
      "metadata": {
        "colab": {
          "base_uri": "https://localhost:8080/"
        },
        "id": "Uwk5hFN-akZT",
        "outputId": "95340d46-4de1-44dc-cdb5-afac71fc5520"
      },
      "source": [
        "# predict for a specific date\r\n",
        "\r\n",
        "# get the quote\r\n",
        "stock_quote = web.DataReader('AAPL', data_source= 'yahoo', start= '2017-01-01', end= '2021-02-11')\r\n",
        "\r\n",
        "# create new dataframe\r\n",
        "new_df = stock_quote.filter(['Close'])\r\n",
        "\r\n",
        "# get the 60-day closing price values and convert the df into an array\r\n",
        "last_60_days =  new_df[-60: ].values\r\n",
        "\r\n",
        "# scale the data to be values between 0 and 1\r\n",
        "last_60_days_scaled = scaler.transform(last_60_days)\r\n",
        "\r\n",
        "# create empty list\r\n",
        "X_test = []\r\n",
        "\r\n",
        "# Append past 60 days to the test list\r\n",
        "X_test.append(last_60_days_scaled)\r\n",
        "\r\n",
        "#convert the X_test to numpy array\r\n",
        "X_test = np.array(X_test)\r\n",
        "\r\n",
        "# reshape the data to be 3 dimensional\r\n",
        "X_test = np.reshape(X_test, ( X_test.shape[0], X_test.shape[1] , 1))\r\n",
        "\r\n",
        "# get predicted scaled price\r\n",
        "pred_price = model.predict (X_test)\r\n",
        "\r\n",
        "#undo the scaling\r\n",
        "pred_price = scaler.inverse_transform(pred_price)\r\n",
        "print(pred_price)\r\n"
      ],
      "execution_count": 112,
      "outputs": [
        {
          "output_type": "stream",
          "text": [
            "[[133.41933]]\n"
          ],
          "name": "stdout"
        }
      ]
    },
    {
      "cell_type": "code",
      "metadata": {
        "colab": {
          "base_uri": "https://localhost:8080/"
        },
        "id": "7v3witA4dGo9",
        "outputId": "f3e9c973-0f2d-4455-c3c8-f55b03a2406e"
      },
      "source": [
        "# get the quote\r\n",
        "stock_quote2 = web.DataReader('AAPL', data_source= 'yahoo', start= '2021-02-10', end= '2021-02-10')\r\n",
        "print(stock_quote2)\r\n"
      ],
      "execution_count": 113,
      "outputs": [
        {
          "output_type": "stream",
          "text": [
            "                  High         Low  ...    Volume   Adj Close\n",
            "Date                                ...                      \n",
            "2021-02-10  136.990005  134.399994  ...  70527203  135.389999\n",
            "\n",
            "[1 rows x 6 columns]\n"
          ],
          "name": "stdout"
        }
      ]
    }
  ]
}