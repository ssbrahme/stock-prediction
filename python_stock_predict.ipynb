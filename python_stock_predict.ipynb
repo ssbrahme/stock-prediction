{
  "nbformat": 4,
  "nbformat_minor": 0,
  "metadata": {
    "colab": {
      "name": "python_stock_predict.ipynb",
      "provenance": [],
      "collapsed_sections": [],
      "authorship_tag": "ABX9TyMCe6PJU6VdBoF2z1OPepQt",
      "include_colab_link": true
    },
    "kernelspec": {
      "name": "python3",
      "display_name": "Python 3"
    }
  },
  "cells": [
    {
      "cell_type": "markdown",
      "metadata": {
        "id": "view-in-github",
        "colab_type": "text"
      },
      "source": [
        "<a href=\"https://colab.research.google.com/github/ssbrahme/stock-prediction/blob/main/python_stock_predict.ipynb\" target=\"_parent\"><img src=\"https://colab.research.google.com/assets/colab-badge.svg\" alt=\"Open In Colab\"/></a>"
      ]
    },
    {
      "cell_type": "code",
      "metadata": {
        "id": "c1e7Pww8GAaC"
      },
      "source": [
        "# description - uses artificial recurrent neural network called Long Short Term Memory (LSTM)\r\n",
        "#               to predict closing stock price of a stock, using past 60 day stock price\r\n"
      ],
      "execution_count": 5,
      "outputs": []
    },
    {
      "cell_type": "code",
      "metadata": {
        "id": "wli5H45eE8YO"
      },
      "source": [
        "# import libraries\r\n",
        "import math\r\n",
        "import pandas_datareader as web\r\n",
        "import numpy as np\r\n",
        "import pandas as pd\r\n",
        "from sklearn.preprocessing import MinMaxScaler\r\n",
        "from keras.models import Sequential\r\n",
        "from keras.layers import Dense, LSTM\r\n",
        "import matplotlib.pyplot as plt\r\n",
        "plt.style.use('fivethirtyeight')\r\n"
      ],
      "execution_count": 68,
      "outputs": []
    },
    {
      "cell_type": "code",
      "metadata": {
        "colab": {
          "base_uri": "https://localhost:8080/",
          "height": 448
        },
        "id": "5g--Fls1Ft6B",
        "outputId": "ea7f2dc2-0752-47f0-80cc-738011ef858f"
      },
      "source": [
        "# get the stock quote\r\n",
        "df = web.DataReader('AAPL', data_source= 'yahoo', start= '2017-01-01', end= '2021-02-10')\r\n",
        "\r\n",
        "# show the data\r\n",
        "df"
      ],
      "execution_count": 69,
      "outputs": [
        {
          "output_type": "execute_result",
          "data": {
            "text/html": [
              "<div>\n",
              "<style scoped>\n",
              "    .dataframe tbody tr th:only-of-type {\n",
              "        vertical-align: middle;\n",
              "    }\n",
              "\n",
              "    .dataframe tbody tr th {\n",
              "        vertical-align: top;\n",
              "    }\n",
              "\n",
              "    .dataframe thead th {\n",
              "        text-align: right;\n",
              "    }\n",
              "</style>\n",
              "<table border=\"1\" class=\"dataframe\">\n",
              "  <thead>\n",
              "    <tr style=\"text-align: right;\">\n",
              "      <th></th>\n",
              "      <th>High</th>\n",
              "      <th>Low</th>\n",
              "      <th>Open</th>\n",
              "      <th>Close</th>\n",
              "      <th>Volume</th>\n",
              "      <th>Adj Close</th>\n",
              "    </tr>\n",
              "    <tr>\n",
              "      <th>Date</th>\n",
              "      <th></th>\n",
              "      <th></th>\n",
              "      <th></th>\n",
              "      <th></th>\n",
              "      <th></th>\n",
              "      <th></th>\n",
              "    </tr>\n",
              "  </thead>\n",
              "  <tbody>\n",
              "    <tr>\n",
              "      <th>2017-06-09</th>\n",
              "      <td>1.380</td>\n",
              "      <td>1.300</td>\n",
              "      <td>1.340</td>\n",
              "      <td>1.350</td>\n",
              "      <td>649500.0</td>\n",
              "      <td>1.350</td>\n",
              "    </tr>\n",
              "    <tr>\n",
              "      <th>2017-06-12</th>\n",
              "      <td>1.370</td>\n",
              "      <td>1.320</td>\n",
              "      <td>1.350</td>\n",
              "      <td>1.350</td>\n",
              "      <td>332800.0</td>\n",
              "      <td>1.350</td>\n",
              "    </tr>\n",
              "    <tr>\n",
              "      <th>2017-06-13</th>\n",
              "      <td>1.360</td>\n",
              "      <td>1.290</td>\n",
              "      <td>1.320</td>\n",
              "      <td>1.360</td>\n",
              "      <td>430600.0</td>\n",
              "      <td>1.360</td>\n",
              "    </tr>\n",
              "    <tr>\n",
              "      <th>2017-06-14</th>\n",
              "      <td>1.350</td>\n",
              "      <td>1.200</td>\n",
              "      <td>1.320</td>\n",
              "      <td>1.300</td>\n",
              "      <td>869600.0</td>\n",
              "      <td>1.300</td>\n",
              "    </tr>\n",
              "    <tr>\n",
              "      <th>2017-06-15</th>\n",
              "      <td>1.290</td>\n",
              "      <td>1.210</td>\n",
              "      <td>1.280</td>\n",
              "      <td>1.240</td>\n",
              "      <td>524000.0</td>\n",
              "      <td>1.240</td>\n",
              "    </tr>\n",
              "    <tr>\n",
              "      <th>...</th>\n",
              "      <td>...</td>\n",
              "      <td>...</td>\n",
              "      <td>...</td>\n",
              "      <td>...</td>\n",
              "      <td>...</td>\n",
              "      <td>...</td>\n",
              "    </tr>\n",
              "    <tr>\n",
              "      <th>2021-02-04</th>\n",
              "      <td>0.308</td>\n",
              "      <td>0.245</td>\n",
              "      <td>0.250</td>\n",
              "      <td>0.288</td>\n",
              "      <td>28493600.0</td>\n",
              "      <td>0.288</td>\n",
              "    </tr>\n",
              "    <tr>\n",
              "      <th>2021-02-05</th>\n",
              "      <td>0.325</td>\n",
              "      <td>0.295</td>\n",
              "      <td>0.325</td>\n",
              "      <td>0.300</td>\n",
              "      <td>28567200.0</td>\n",
              "      <td>0.300</td>\n",
              "    </tr>\n",
              "    <tr>\n",
              "      <th>2021-02-08</th>\n",
              "      <td>0.320</td>\n",
              "      <td>0.295</td>\n",
              "      <td>0.320</td>\n",
              "      <td>0.305</td>\n",
              "      <td>17667300.0</td>\n",
              "      <td>0.305</td>\n",
              "    </tr>\n",
              "    <tr>\n",
              "      <th>2021-02-09</th>\n",
              "      <td>0.445</td>\n",
              "      <td>0.305</td>\n",
              "      <td>0.310</td>\n",
              "      <td>0.430</td>\n",
              "      <td>53894600.0</td>\n",
              "      <td>0.430</td>\n",
              "    </tr>\n",
              "    <tr>\n",
              "      <th>2021-02-10</th>\n",
              "      <td>0.600</td>\n",
              "      <td>0.430</td>\n",
              "      <td>0.550</td>\n",
              "      <td>0.500</td>\n",
              "      <td>85199249.0</td>\n",
              "      <td>0.500</td>\n",
              "    </tr>\n",
              "  </tbody>\n",
              "</table>\n",
              "<p>921 rows × 6 columns</p>\n",
              "</div>"
            ],
            "text/plain": [
              "             High    Low   Open  Close      Volume  Adj Close\n",
              "Date                                                         \n",
              "2017-06-09  1.380  1.300  1.340  1.350    649500.0      1.350\n",
              "2017-06-12  1.370  1.320  1.350  1.350    332800.0      1.350\n",
              "2017-06-13  1.360  1.290  1.320  1.360    430600.0      1.360\n",
              "2017-06-14  1.350  1.200  1.320  1.300    869600.0      1.300\n",
              "2017-06-15  1.290  1.210  1.280  1.240    524000.0      1.240\n",
              "...           ...    ...    ...    ...         ...        ...\n",
              "2021-02-04  0.308  0.245  0.250  0.288  28493600.0      0.288\n",
              "2021-02-05  0.325  0.295  0.325  0.300  28567200.0      0.300\n",
              "2021-02-08  0.320  0.295  0.320  0.305  17667300.0      0.305\n",
              "2021-02-09  0.445  0.305  0.310  0.430  53894600.0      0.430\n",
              "2021-02-10  0.600  0.430  0.550  0.500  85199249.0      0.500\n",
              "\n",
              "[921 rows x 6 columns]"
            ]
          },
          "metadata": {
            "tags": []
          },
          "execution_count": 69
        }
      ]
    },
    {
      "cell_type": "code",
      "metadata": {
        "colab": {
          "base_uri": "https://localhost:8080/"
        },
        "id": "8ZjegQJmGxMC",
        "outputId": "c5b0ae7f-f966-4e64-925d-5442be8b47c0"
      },
      "source": [
        "# get the shape of the data frame\r\n",
        "df.shape"
      ],
      "execution_count": 70,
      "outputs": [
        {
          "output_type": "execute_result",
          "data": {
            "text/plain": [
              "(921, 6)"
            ]
          },
          "metadata": {
            "tags": []
          },
          "execution_count": 70
        }
      ]
    },
    {
      "cell_type": "code",
      "metadata": {
        "colab": {
          "base_uri": "https://localhost:8080/",
          "height": 558
        },
        "id": "Dl_dSGS0HBZw",
        "outputId": "faee7c17-f117-4520-f775-89f38df18bf0"
      },
      "source": [
        "# visualize closing price history\r\n",
        "plt.figure (figsize=(16,8))\r\n",
        "plt.title ('Closing Price History')\r\n",
        "plt.plot(df.Close)\r\n",
        "plt.xlabel('Date', fontsize=18)\r\n",
        "plt.ylabel('Closing Price($) USD',fontsize=18)\r\n",
        "plt.show ()"
      ],
      "execution_count": 71,
      "outputs": [
        {
          "output_type": "display_data",
          "data": {
            "image/png": "[encoded data removed]",
            "text/plain": [
              "<Figure size 1152x576 with 1 Axes>"
            ]
          },
          "metadata": {
            "tags": []
          }
        }
      ]
    },
    {
      "cell_type": "code",
      "metadata": {
        "colab": {
          "base_uri": "https://localhost:8080/"
        },
        "id": "Rgjxk99IIdpy",
        "outputId": "08e4ee96-79ce-4de0-c6aa-af5749412d62"
      },
      "source": [
        "# create data frame with only 'close' column\r\n",
        "data = df.filter(['Close'])\r\n",
        "\r\n",
        "# convert the data frame into numpy array\r\n",
        "dataset = data.values\r\n",
        "\r\n",
        "# get number of rows to train the LSTM model \r\n",
        "training_data_len = math.ceil(len(dataset) * 0.8)\r\n",
        "\r\n",
        "training_data_len"
      ],
      "execution_count": 72,
      "outputs": [
        {
          "output_type": "execute_result",
          "data": {
            "text/plain": [
              "737"
            ]
          },
          "metadata": {
            "tags": []
          },
          "execution_count": 72
        }
      ]
    },
    {
      "cell_type": "code",
      "metadata": {
        "id": "uuIGbLz7Jenv"
      },
      "source": [
        "# Scale the data\r\n",
        "scaler= MinMaxScaler(feature_range=(0,1))\r\n",
        "scaled_data = scaler.fit_transform(dataset)\r\n",
        "\r\n",
        "scaled_data"
      ],
      "execution_count": null,
      "outputs": []
    },
    {
      "cell_type": "code",
      "metadata": {
        "colab": {
          "base_uri": "https://localhost:8080/"
        },
        "id": "Ahn68akpKJaw",
        "outputId": "4039fa99-ef9f-4222-dd12-eda668aeb6e8"
      },
      "source": [
        "# create scaled training dataset\r\n",
        "train_data =  scaled_data[0:training_data_len , :]\r\n",
        "\r\n",
        "# split the data into x_train and y_train datasets\r\n",
        "x_train = [] \r\n",
        "y_train = []\r\n",
        "\r\n",
        "for i in range (60, len(train_data)):\r\n",
        "  x_train.append(train_data[i-60:i, 0])\r\n",
        "  y_train.append(train_data[i,0])\r\n",
        "  if i <= 61:\r\n",
        "    print(x_train)\r\n",
        "    print(y_train)\r\n",
        "    print()"
      ],
      "execution_count": 74,
      "outputs": [
        {
          "output_type": "stream",
          "text": [
            "[array([0.38804554, 0.38804554, 0.39120809, 0.37223274, 0.35325742,\n",
            "       0.35325742, 0.37223274, 0.37539529, 0.38804554, 0.37855788,\n",
            "       0.36907019, 0.36907019, 0.36274508, 0.39437064, 0.34693232,\n",
            "       0.34693232, 0.35009487, 0.33744466, 0.31530676, 0.299494  ,\n",
            "       0.28684375, 0.3058191 , 0.31214421, 0.29316886, 0.29633141,\n",
            "       0.30265655, 0.32795697, 0.32479442, 0.31214421, 0.32479442,\n",
            "       0.33111952, 0.34376977, 0.36274508, 0.34693232, 0.35009487,\n",
            "       0.34693232, 0.34060722, 0.34060722, 0.32479442, 0.32795697,\n",
            "       0.33111952, 0.32795697, 0.31846931, 0.31846931, 0.31214421,\n",
            "       0.30898166, 0.31846931, 0.32479442, 0.32163186, 0.32163186,\n",
            "       0.32795697, 0.32479442, 0.31530676, 0.31846931, 0.32163186,\n",
            "       0.32163186, 0.32479442, 0.34376977, 0.34060722, 0.35009487])]\n",
            "[0.34376976799856346]\n",
            "\n",
            "[array([0.38804554, 0.38804554, 0.39120809, 0.37223274, 0.35325742,\n",
            "       0.35325742, 0.37223274, 0.37539529, 0.38804554, 0.37855788,\n",
            "       0.36907019, 0.36907019, 0.36274508, 0.39437064, 0.34693232,\n",
            "       0.34693232, 0.35009487, 0.33744466, 0.31530676, 0.299494  ,\n",
            "       0.28684375, 0.3058191 , 0.31214421, 0.29316886, 0.29633141,\n",
            "       0.30265655, 0.32795697, 0.32479442, 0.31214421, 0.32479442,\n",
            "       0.33111952, 0.34376977, 0.36274508, 0.34693232, 0.35009487,\n",
            "       0.34693232, 0.34060722, 0.34060722, 0.32479442, 0.32795697,\n",
            "       0.33111952, 0.32795697, 0.31846931, 0.31846931, 0.31214421,\n",
            "       0.30898166, 0.31846931, 0.32479442, 0.32163186, 0.32163186,\n",
            "       0.32795697, 0.32479442, 0.31530676, 0.31846931, 0.32163186,\n",
            "       0.32163186, 0.32479442, 0.34376977, 0.34060722, 0.35009487]), array([0.38804554, 0.39120809, 0.37223274, 0.35325742, 0.35325742,\n",
            "       0.37223274, 0.37539529, 0.38804554, 0.37855788, 0.36907019,\n",
            "       0.36907019, 0.36274508, 0.39437064, 0.34693232, 0.34693232,\n",
            "       0.35009487, 0.33744466, 0.31530676, 0.299494  , 0.28684375,\n",
            "       0.3058191 , 0.31214421, 0.29316886, 0.29633141, 0.30265655,\n",
            "       0.32795697, 0.32479442, 0.31214421, 0.32479442, 0.33111952,\n",
            "       0.34376977, 0.36274508, 0.34693232, 0.35009487, 0.34693232,\n",
            "       0.34060722, 0.34060722, 0.32479442, 0.32795697, 0.33111952,\n",
            "       0.32795697, 0.31846931, 0.31846931, 0.31214421, 0.30898166,\n",
            "       0.31846931, 0.32479442, 0.32163186, 0.32163186, 0.32795697,\n",
            "       0.32479442, 0.31530676, 0.31846931, 0.32163186, 0.32163186,\n",
            "       0.32479442, 0.34376977, 0.34060722, 0.35009487, 0.34376977])]\n",
            "[0.34376976799856346, 0.3406072157523403]\n",
            "\n"
          ],
          "name": "stdout"
        }
      ]
    },
    {
      "cell_type": "code",
      "metadata": {
        "id": "8TaugjVuO5sD"
      },
      "source": [
        "# convert x_train and y_train to numpy arrays\r\n",
        "x_train, y_train = np.array(x_train) , np.array(y_train)"
      ],
      "execution_count": 75,
      "outputs": []
    },
    {
      "cell_type": "code",
      "metadata": {
        "colab": {
          "base_uri": "https://localhost:8080/"
        },
        "id": "V-x87mmpPUCh",
        "outputId": "91a2acf9-74ef-46d1-e082-de82c3eb2302"
      },
      "source": [
        "# reshape x_train data - to satisfy LSTM standard fo 3 dimensional data consisting of samples, time-steps and features\r\n",
        "x_train = np.reshape(x_train, (len(x_train),x_train.shape[1],1 ))\r\n",
        "x_train.shape"
      ],
      "execution_count": 76,
      "outputs": [
        {
          "output_type": "execute_result",
          "data": {
            "text/plain": [
              "(677, 60, 1)"
            ]
          },
          "metadata": {
            "tags": []
          },
          "execution_count": 76
        }
      ]
    },
    {
      "cell_type": "code",
      "metadata": {
        "id": "m1YYx8V7QYNx"
      },
      "source": [
        "# build LSTM model\r\n",
        "model = Sequential()\r\n",
        "model.add(LSTM(50,return_sequences=True, input_shape = (x_train.shape[1], 1 )))\r\n",
        "model.add(LSTM(50, return_sequences=False))\r\n",
        "model.add(Dense(25))\r\n",
        "model.add(Dense(1))"
      ],
      "execution_count": 77,
      "outputs": []
    },
    {
      "cell_type": "code",
      "metadata": {
        "id": "C1RyrHbORUkA"
      },
      "source": [
        "# compile the model\r\n",
        "model.compile(optimizer= 'adam', loss= 'mean_squared_error' )"
      ],
      "execution_count": 78,
      "outputs": []
    },
    {
      "cell_type": "code",
      "metadata": {
        "colab": {
          "base_uri": "https://localhost:8080/"
        },
        "id": "O9fXlM-URmmS",
        "outputId": "543db376-a1da-46c9-f164-b61b9925041c"
      },
      "source": [
        "# train the model\r\n",
        "model.fit(x_train, y_train, batch_size= 1,epochs= 1)"
      ],
      "execution_count": 79,
      "outputs": [
        {
          "output_type": "stream",
          "text": [
            "677/677 [==============================] - 21s 27ms/step - loss: 0.0124\n"
          ],
          "name": "stdout"
        },
        {
          "output_type": "execute_result",
          "data": {
            "text/plain": [
              "<tensorflow.python.keras.callbacks.History at 0x7ff5faf1a438>"
            ]
          },
          "metadata": {
            "tags": []
          },
          "execution_count": 79
        }
      ]
    },
    {
      "cell_type": "code",
      "metadata": {
        "id": "VLFZxDMaSpAt"
      },
      "source": [
        "# create tersting dataset\r\n",
        "# create a new array containing scaled data with index from the training dataset last index to the length of the entire dataset\r\n",
        "test_data = scaled_data[training_data_len - 60 : , :]\r\n",
        "\r\n",
        "# create datasets x_test and y_test\r\n",
        "x_test = []\r\n",
        "y_test = dataset[training_data_len : , :]\r\n",
        "\r\n",
        "for i in range (60, len(test_data)):\r\n",
        "  x_test.append(test_data[i-60 : i , 0])\r\n",
        "\r\n"
      ],
      "execution_count": 80,
      "outputs": []
    },
    {
      "cell_type": "code",
      "metadata": {
        "id": "VpJD5EBCULKG"
      },
      "source": [
        "# convert the data to a numpy array\r\n",
        "x_test = np.array(x_test)"
      ],
      "execution_count": 81,
      "outputs": []
    },
    {
      "cell_type": "code",
      "metadata": {
        "id": "BkwEapE8UbRr"
      },
      "source": [
        "# reshape the data to get 3 dimensional shape for LSTM\r\n",
        "x_test = np.reshape(x_test , ( x_test.shape[0] ,x_test.shape[1], 1  ))\r\n",
        "\r\n"
      ],
      "execution_count": 82,
      "outputs": []
    },
    {
      "cell_type": "code",
      "metadata": {
        "id": "RGpYz_RjU9ZL"
      },
      "source": [
        "# get model predicted price values for x_test dataset\r\n",
        "pred = model.predict(x_test)\r\n",
        "\r\n",
        "# inverse transform\r\n",
        "pred = scaler.inverse_transform(pred)\r\n"
      ],
      "execution_count": 83,
      "outputs": []
    },
    {
      "cell_type": "code",
      "metadata": {
        "colab": {
          "base_uri": "https://localhost:8080/"
        },
        "id": "dsoSggiwVqQS",
        "outputId": "3464c27c-ca37-4cfe-8507-3a5920ca1836"
      },
      "source": [
        "# find out RMSE \r\n",
        "rmse = np.sqrt(np.mean( pred - y_test)**2 )\r\n",
        "rmse\r\n"
      ],
      "execution_count": 84,
      "outputs": [
        {
          "output_type": "execute_result",
          "data": {
            "text/plain": [
              "0.03528019644158042"
            ]
          },
          "metadata": {
            "tags": []
          },
          "execution_count": 84
        }
      ]
    },
    {
      "cell_type": "code",
      "metadata": {
        "colab": {
          "base_uri": "https://localhost:8080/",
          "height": 661
        },
        "id": "ZVih5KFQWbxw",
        "outputId": "d52757b8-c653-4fff-eb64-99d896aab906"
      },
      "source": [
        "# plot the data\r\n",
        "train = data[ : training_data_len]\r\n",
        "finals = data[training_data_len : ]\r\n",
        "finals['Prediction']= pred\r\n",
        "\r\n",
        "# visualize the data\r\n",
        "\r\n",
        "plt.figure (figsize= (16,8))\r\n",
        "plt.title('Model')\r\n",
        "plt.xlabel('Date', fontsize= 18)\r\n",
        "plt.ylabel('Closing Price($) USD', fontsize=18)\r\n",
        "plt.plot(train['Close'])\r\n",
        "plt.plot(finals[['Close', 'Prediction']])\r\n",
        "plt.legend(['Train','Actual','Prediction'], loc  = 'upper right')\r\n",
        "plt.show()\r\n"
      ],
      "execution_count": 85,
      "outputs": [
        {
          "output_type": "stream",
          "text": [
            "/usr/local/lib/python3.6/dist-packages/ipykernel_launcher.py:4: SettingWithCopyWarning: \n",
            "A value is trying to be set on a copy of a slice from a DataFrame.\n",
            "Try using .loc[row_indexer,col_indexer] = value instead\n",
            "\n",
            "See the caveats in the documentation: https://pandas.pydata.org/pandas-docs/stable/user_guide/indexing.html#returning-a-view-versus-a-copy\n",
            "  after removing the cwd from sys.path.\n"
          ],
          "name": "stderr"
        },
        {
          "output_type": "display_data",
          "data": {
            "image/png": "[encoded data removed]",
            "text/plain": [
              "<Figure size 1152x576 with 1 Axes>"
            ]
          },
          "metadata": {
            "tags": []
          }
        }
      ]
    },
    {
      "cell_type": "code",
      "metadata": {
        "colab": {
          "base_uri": "https://localhost:8080/",
          "height": 448
        },
        "id": "YHpd_cIYZNeu",
        "outputId": "f4ba2586-b74e-4ba8-a836-0eccebdfdc1d"
      },
      "source": [
        "# show the actual price and predicted price\r\n",
        "finals"
      ],
      "execution_count": 86,
      "outputs": [
        {
          "output_type": "execute_result",
          "data": {
            "text/html": [
              "<div>\n",
              "<style scoped>\n",
              "    .dataframe tbody tr th:only-of-type {\n",
              "        vertical-align: middle;\n",
              "    }\n",
              "\n",
              "    .dataframe tbody tr th {\n",
              "        vertical-align: top;\n",
              "    }\n",
              "\n",
              "    .dataframe thead th {\n",
              "        text-align: right;\n",
              "    }\n",
              "</style>\n",
              "<table border=\"1\" class=\"dataframe\">\n",
              "  <thead>\n",
              "    <tr style=\"text-align: right;\">\n",
              "      <th></th>\n",
              "      <th>Close</th>\n",
              "      <th>Prediction</th>\n",
              "    </tr>\n",
              "    <tr>\n",
              "      <th>Date</th>\n",
              "      <th></th>\n",
              "      <th></th>\n",
              "    </tr>\n",
              "  </thead>\n",
              "  <tbody>\n",
              "    <tr>\n",
              "      <th>2020-05-19</th>\n",
              "      <td>0.300</td>\n",
              "      <td>0.301150</td>\n",
              "    </tr>\n",
              "    <tr>\n",
              "      <th>2020-05-20</th>\n",
              "      <td>0.290</td>\n",
              "      <td>0.304022</td>\n",
              "    </tr>\n",
              "    <tr>\n",
              "      <th>2020-05-21</th>\n",
              "      <td>0.290</td>\n",
              "      <td>0.307903</td>\n",
              "    </tr>\n",
              "    <tr>\n",
              "      <th>2020-05-22</th>\n",
              "      <td>0.310</td>\n",
              "      <td>0.311965</td>\n",
              "    </tr>\n",
              "    <tr>\n",
              "      <th>2020-05-25</th>\n",
              "      <td>0.390</td>\n",
              "      <td>0.317678</td>\n",
              "    </tr>\n",
              "    <tr>\n",
              "      <th>...</th>\n",
              "      <td>...</td>\n",
              "      <td>...</td>\n",
              "    </tr>\n",
              "    <tr>\n",
              "      <th>2021-02-04</th>\n",
              "      <td>0.288</td>\n",
              "      <td>0.228711</td>\n",
              "    </tr>\n",
              "    <tr>\n",
              "      <th>2021-02-05</th>\n",
              "      <td>0.300</td>\n",
              "      <td>0.239758</td>\n",
              "    </tr>\n",
              "    <tr>\n",
              "      <th>2021-02-08</th>\n",
              "      <td>0.305</td>\n",
              "      <td>0.255239</td>\n",
              "    </tr>\n",
              "    <tr>\n",
              "      <th>2021-02-09</th>\n",
              "      <td>0.430</td>\n",
              "      <td>0.272186</td>\n",
              "    </tr>\n",
              "    <tr>\n",
              "      <th>2021-02-10</th>\n",
              "      <td>0.500</td>\n",
              "      <td>0.300431</td>\n",
              "    </tr>\n",
              "  </tbody>\n",
              "</table>\n",
              "<p>184 rows × 2 columns</p>\n",
              "</div>"
            ],
            "text/plain": [
              "            Close  Prediction\n",
              "Date                         \n",
              "2020-05-19  0.300    0.301150\n",
              "2020-05-20  0.290    0.304022\n",
              "2020-05-21  0.290    0.307903\n",
              "2020-05-22  0.310    0.311965\n",
              "2020-05-25  0.390    0.317678\n",
              "...           ...         ...\n",
              "2021-02-04  0.288    0.228711\n",
              "2021-02-05  0.300    0.239758\n",
              "2021-02-08  0.305    0.255239\n",
              "2021-02-09  0.430    0.272186\n",
              "2021-02-10  0.500    0.300431\n",
              "\n",
              "[184 rows x 2 columns]"
            ]
          },
          "metadata": {
            "tags": []
          },
          "execution_count": 86
        }
      ]
    },
    {
      "cell_type": "code",
      "metadata": {
        "colab": {
          "base_uri": "https://localhost:8080/"
        },
        "id": "Uwk5hFN-akZT",
        "outputId": "56e5925c-a46f-4d46-dad1-b6fe807d270c"
      },
      "source": [
        "# predict for a specific date\r\n",
        "\r\n",
        "# get the quote\r\n",
        "stock_quote = web.DataReader('AAPL', data_source= 'yahoo', start= '2017-01-01', end= '2021-02-11')\r\n",
        "\r\n",
        "# create new dataframe\r\n",
        "new_df = stock_quote.filter(['Close'])\r\n",
        "\r\n",
        "# get the 60-day closing price values and convert the df into an array\r\n",
        "last_60_days =  new_df[-60: ].values\r\n",
        "\r\n",
        "# scale the data to be values between 0 and 1\r\n",
        "last_60_days_scaled = scaler.transform(last_60_days)\r\n",
        "\r\n",
        "# create empty list\r\n",
        "X_test = []\r\n",
        "\r\n",
        "# Append past 60 days to the test list\r\n",
        "X_test.append(last_60_days_scaled)\r\n",
        "\r\n",
        "#convert the X_test to numpy array\r\n",
        "X_test = np.array(X_test)\r\n",
        "\r\n",
        "# reshape the data to be 3 dimensional\r\n",
        "X_test = np.reshape(X_test, ( X_test.shape[0], X_test.shape[1] , 1))\r\n",
        "\r\n",
        "# get predicted scaled price\r\n",
        "pred_price = model.predict (X_test)\r\n",
        "\r\n",
        "#undo the scaling\r\n",
        "pred_price = scaler.inverse_transform(pred_price)\r\n",
        "print(pred_price)\r\n"
      ],
      "execution_count": 91,
      "outputs": [
        {
          "output_type": "stream",
          "text": [
            "[[0.33910316]]\n"
          ],
          "name": "stdout"
        }
      ]
    },
    {
      "cell_type": "code",
      "metadata": {
        "colab": {
          "base_uri": "https://localhost:8080/"
        },
        "id": "7v3witA4dGo9",
        "outputId": "a7c9643d-a932-4d9a-fcbd-6c74a4dcfe90"
      },
      "source": [
        "# get the quote\r\n",
        "stock_quote2 = web.DataReader('AAPL', data_source= 'yahoo', start= '2021-02-10', end= '2021-02-10')\r\n",
        "print(stock_quote2)\r\n"
      ],
      "execution_count": 90,
      "outputs": [
        {
          "output_type": "stream",
          "text": [
            "            High   Low  Open  Close    Volume  Adj Close\n",
            "Date                                                    \n",
            "2021-02-10   0.6  0.43  0.55    0.5  85199249        0.5\n"
          ],
          "name": "stdout"
        }
      ]
    }
  ]
}